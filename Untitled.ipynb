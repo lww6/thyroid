{
 "cells": [
  {
   "cell_type": "code",
   "execution_count": null,
   "id": "1394f9ab",
   "metadata": {},
   "outputs": [],
   "source": [
    "\n",
    "import os\n",
    "import numpy as np\n",
    "import nibabel as nib\n",
    "\n",
    "\n",
    "data_folder = r'C:\\Users\\Desktop\\data\\nii'#\n",
    "images_folder = os.path.join(data_folder, 'image')#\n",
    "masks_folder = os.path.join(data_folder, 'mask')#mask\n",
    "output_folder = os.path.join(data_folder, 'yingshe')# new mask\n",
    "\n",
    "\n",
    "for mask_filename in os.listdir(masks_folder):\n",
    "    if mask_filename.endswith('.nii.gz'):\n",
    "        mask_path = os.path.join(masks_folder, mask_filename)\n",
    "        image_filename = mask_filename  #\n",
    "        image_path = os.path.join(images_folder, image_filename)\n",
    "        \n",
    "    \n",
    "        mask_nii = nib.load(mask_path)\n",
    "        mask_data = mask_nii.get_fdata()\n",
    "        #print(f'Mask shape before shift: {mask_data.shape}')\n",
    "        \n",
    "\n",
    "        image_nii = nib.load(image_path)\n",
    "        image_data = image_nii.get_fdata()\n",
    "        image_shape = image_data.shape\n",
    "        \n",
    "      \n",
    "        shifted_mask_data = np.zeros_like(mask_data)\n",
    "        \n",
    "\n",
    "        half_width = image_shape[0] // 2\n",
    "        shifted_mask_data[half_width:, :] = mask_data[:-half_width, :]#right\n",
    "        #shifted_mask_data[:-half_width, :] = mask_data[half_width:, :]#left\n",
    "        #print(f'Mask shape after shift: {shifted_mask_data.shape}')\n",
    "        \n",
    "\n",
    "        shifted_mask_data[:image_shape[0]-80, :] = shifted_mask_data[80:, :]\n",
    "        shifted_mask_data[image_shape[0]-80:, :] = 0\n",
    "        \n",
    "\n",
    "        #shifted_mask_data[10:, :] = shifted_mask_data[:-10, :]\n",
    "        #shifted_mask_data[:10, :] = 0\n",
    "        \n",
    "        # save new Nifti\n",
    "        shifted_mask_nii = nib.Nifti1Image(shifted_mask_data, mask_nii.affine, mask_nii.header)\n",
    "        output_path = os.path.join(output_folder, mask_filename)\n",
    "        nib.save(shifted_mask_nii, output_path)\n",
    "        \n",
    "        print(f'Processed and saved {mask_filename} to {output_path}')"
   ]
  }
 ],
 "metadata": {
  "kernelspec": {
   "display_name": "Python 3 (ipykernel)",
   "language": "python",
   "name": "python3"
  },
  "language_info": {
   "codemirror_mode": {
    "name": "ipython",
    "version": 3
   },
   "file_extension": ".py",
   "mimetype": "text/x-python",
   "name": "python",
   "nbconvert_exporter": "python",
   "pygments_lexer": "ipython3",
   "version": "3.9.7"
  }
 },
 "nbformat": 4,
 "nbformat_minor": 5
}
